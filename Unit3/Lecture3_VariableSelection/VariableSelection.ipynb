{
 "cells": [
  {
   "cell_type": "code",
   "execution_count": 19,
   "metadata": {},
   "outputs": [
    {
     "name": "stdout",
     "output_type": "stream",
     "text": [
      "(506, 13)\n",
      "['CRIM' 'ZN' 'INDUS' 'CHAS' 'NOX' 'RM' 'AGE' 'DIS' 'RAD' 'TAX' 'PTRATIO'\n",
      " 'B' 'LSTAT']\n",
      "                 0          1          2          3          4\n",
      "CRIM       0.00632    0.02731    0.02729    0.03237    0.06905\n",
      "ZN        18.00000    0.00000    0.00000    0.00000    0.00000\n",
      "INDUS      2.31000    7.07000    7.07000    2.18000    2.18000\n",
      "CHAS       0.00000    0.00000    0.00000    0.00000    0.00000\n",
      "NOX        0.53800    0.46900    0.46900    0.45800    0.45800\n",
      "RM         6.57500    6.42100    7.18500    6.99800    7.14700\n",
      "AGE       65.20000   78.90000   61.10000   45.80000   54.20000\n",
      "DIS        4.09000    4.96710    4.96710    6.06220    6.06220\n",
      "RAD        1.00000    2.00000    2.00000    3.00000    3.00000\n",
      "TAX      296.00000  242.00000  242.00000  222.00000  222.00000\n",
      "PTRATIO   15.30000   17.80000   17.80000   18.70000   18.70000\n",
      "B        396.90000  396.90000  392.83000  394.63000  396.90000\n",
      "LSTAT      4.98000    9.14000    4.03000    2.94000    5.33000\n",
      "Price     24.00000   21.60000   34.70000   33.40000   36.20000\n"
     ]
    }
   ],
   "source": [
    "'''\n",
    "Forward stepwise selection, we start with a null model and add a variable that will improve the accuracy of the model\n",
    "Then we add another if it improves accuracy the moment it doesnt improve we stop including those variables, stepwise means\n",
    "during this process of adding variables it also can remove a variable that we previously added\n",
    "The goal is the continuing improvement and accuracy of the model until the variables being added dont provide any lift\n",
    "\n",
    "Backward stepwise selection...the oposite of forward stepwise, we start with all the variables and start removing\n",
    "one variable at a time\n",
    "\n",
    "in python environment conda install -c conda-forge mlxtend\n",
    "\n",
    "'''\n",
    "\n",
    "import pandas as pd\n",
    "from sklearn.datasets import load_boston\n",
    "\n",
    "#importing the necessary libraries\n",
    "from mlxtend.feature_selection import SequentialFeatureSelector as SFS\n",
    "from sklearn.linear_model import LinearRegression\n",
    "\n",
    "from mlxtend.plotting import plot_sequential_feature_selection as plot_sfs\n",
    "import matplotlib.pyplot as plt\n",
    "\n",
    "\n",
    "\n",
    "boston = load_boston()\n",
    "print(boston.data.shape)         # for dataset dimension\n",
    "print(boston.feature_names)      # for feature names\n",
    "#print(boston.target)             # for target variable\n",
    "#print(boston.DESCR)              # for data description\n",
    "\n",
    "\n",
    "\n",
    "bos = pd.DataFrame(boston.data, columns = boston.feature_names)\n",
    "bos['Price'] = boston.target\n",
    "\n",
    "print(bos.head().T)"
   ]
  },
  {
   "cell_type": "code",
   "execution_count": 20,
   "metadata": {},
   "outputs": [
    {
     "name": "stdout",
     "output_type": "stream",
     "text": [
      "                 0          1          2          3          4\n",
      "CRIM       0.00632    0.02731    0.02729    0.03237    0.06905\n",
      "ZN        18.00000    0.00000    0.00000    0.00000    0.00000\n",
      "INDUS      2.31000    7.07000    7.07000    2.18000    2.18000\n",
      "CHAS       0.00000    0.00000    0.00000    0.00000    0.00000\n",
      "NOX        0.53800    0.46900    0.46900    0.45800    0.45800\n",
      "RM         6.57500    6.42100    7.18500    6.99800    7.14700\n",
      "AGE       65.20000   78.90000   61.10000   45.80000   54.20000\n",
      "DIS        4.09000    4.96710    4.96710    6.06220    6.06220\n",
      "RAD        1.00000    2.00000    2.00000    3.00000    3.00000\n",
      "TAX      296.00000  242.00000  242.00000  222.00000  222.00000\n",
      "PTRATIO   15.30000   17.80000   17.80000   18.70000   18.70000\n",
      "B        396.90000  396.90000  392.83000  394.63000  396.90000\n",
      "LSTAT      4.98000    9.14000    4.03000    2.94000    5.33000\n"
     ]
    }
   ],
   "source": [
    "X = bos.copy()\n",
    "X = X.drop(\"Price\", axis=1)       # feature matrix \n",
    "Y = bos[ 'Price' ]           # target feature\n",
    "\n",
    "print( X.head().T )\n",
    "#print( Y.head() )"
   ]
  },
  {
   "cell_type": "code",
   "execution_count": 18,
   "metadata": {},
   "outputs": [],
   "source": [
    "\n",
    "varNames = list( X.columns.values )\n",
    "maxCols = X.shape[1]"
   ]
  },
  {
   "cell_type": "code",
   "execution_count": 23,
   "metadata": {},
   "outputs": [
    {
     "data": {
      "text/plain": [
       "SequentialFeatureSelector(clone_estimator=True, cv=5,\n",
       "                          estimator=LinearRegression(copy_X=True,\n",
       "                                                     fit_intercept=True,\n",
       "                                                     n_jobs=None,\n",
       "                                                     normalize=False),\n",
       "                          fixed_features=None, floating=False, forward=True,\n",
       "                          k_features=(1, 13), n_jobs=1, pre_dispatch='2*n_jobs',\n",
       "                          scoring='r2', verbose=0)"
      ]
     },
     "execution_count": 23,
     "metadata": {},
     "output_type": "execute_result"
    }
   ],
   "source": [
    "#k_features = 1, maxcols looks for the best model with 1 variable, with 2 variables....best model using max col variables\n",
    "# forward = True is forward \n",
    "#floating = True makes it a stepwise, add and subtract varaibles will take more time\n",
    "#dont want to go down that road if you dont have to\n",
    "#best thing to do with a large dataset is to do forward = true and floating = false\n",
    "#cv is cross valiation cv=5 means we are going break the data into 5 datasets, build on 1-4 and test on 5\n",
    "#then it builds on 1-3,5 and test on 4 etc.\n",
    "\n",
    "sfs = SFS(LinearRegression(),\n",
    "           k_features=( 1, maxCols ),\n",
    "           forward=True,\n",
    "           floating=False,\n",
    "           scoring = 'r2',\n",
    "           cv=5\n",
    "           )\n",
    "sfs.fit(X.values, Y.values)"
   ]
  },
  {
   "cell_type": "code",
   "execution_count": 25,
   "metadata": {},
   "outputs": [
    {
     "data": {
      "image/png": "[encoded data removed]",
      "text/plain": [
       "<Figure size 432x288 with 1 Axes>"
      ]
     },
     "metadata": {
      "needs_background": "light"
     },
     "output_type": "display_data"
    }
   ],
   "source": [
    "theFigure = plot_sfs(sfs.get_metric_dict(), kind=None )\n",
    "plt.title('Sequential Forward Selection (w. StdErr)')\n",
    "plt.grid()\n",
    "plt.show()"
   ]
  },
  {
   "cell_type": "code",
   "execution_count": 24,
   "metadata": {},
   "outputs": [
    {
     "name": "stdout",
     "output_type": "stream",
     "text": [
      "                                 feature_names avg_score\n",
      "1                                        (12,)   0.29711\n",
      "2                                     (10, 12)  0.429882\n",
      "3                                  (3, 10, 12)  0.441128\n",
      "4                               (3, 5, 10, 12)    0.4427\n",
      "5                            (0, 3, 5, 10, 12)  0.448866\n",
      "6                        (0, 3, 5, 10, 11, 12)  0.451407\n",
      "7                     (0, 3, 5, 7, 10, 11, 12)  0.461711\n",
      "8                  (0, 2, 3, 5, 7, 10, 11, 12)  0.475429\n",
      "9               (0, 1, 2, 3, 5, 7, 10, 11, 12)  0.472875\n",
      "10           (0, 1, 2, 3, 4, 5, 7, 10, 11, 12)  0.468855\n",
      "11        (0, 1, 2, 3, 4, 5, 6, 7, 10, 11, 12)  0.453487\n",
      "12     (0, 1, 2, 3, 4, 5, 6, 7, 9, 10, 11, 12)  0.432817\n",
      "13  (0, 1, 2, 3, 4, 5, 6, 7, 8, 9, 10, 11, 12)  0.353276\n",
      "before converting\n",
      "feature_names    object\n",
      "avg_score        object\n",
      "dtype: object\n",
      "after converting\n",
      "feature_names     object\n",
      "avg_score        float64\n",
      "dtype: object\n"
     ]
    }
   ],
   "source": [
    "dfm = pd.DataFrame.from_dict( sfs.get_metric_dict()).T\n",
    "dfm_names = dfm.columns.values\n",
    "dfm = dfm[ ['feature_names', 'avg_score'] ]\n",
    "print( dfm.head(13) )\n",
    "print(\"before converting\")\n",
    "dt = dfm.dtypes\n",
    "print( dt )\n",
    "dfm.avg_score = dfm.avg_score.astype(float)\n",
    "print(\"after converting\")\n",
    "dt = dfm.dtypes\n",
    "print( dt )"
   ]
  },
  {
   "cell_type": "code",
   "execution_count": 26,
   "metadata": {},
   "outputs": [
    {
     "name": "stdout",
     "output_type": "stream",
     "text": [
      "argmax\n",
      "feature_names    (0, 2, 3, 5, 7, 10, 11, 12)\n",
      "avg_score                           0.475429\n",
      "Name: 8, dtype: object\n",
      " ................... \n"
     ]
    }
   ],
   "source": [
    "#If you have thousands of variables this code will return the highest avg score and the feature names\n",
    "maxIndex = dfm.avg_score.argmax()\n",
    "print(\"argmax\")\n",
    "print( dfm.iloc[ maxIndex, ] )\n",
    "print(\" ................... \")"
   ]
  },
  {
   "cell_type": "code",
   "execution_count": 27,
   "metadata": {},
   "outputs": [
    {
     "name": "stdout",
     "output_type": "stream",
     "text": [
      "                                 feature_names  avg_score\n",
      "8                  (0, 2, 3, 5, 7, 10, 11, 12)   0.475429\n",
      "9               (0, 1, 2, 3, 5, 7, 10, 11, 12)   0.472875\n",
      "10           (0, 1, 2, 3, 4, 5, 7, 10, 11, 12)   0.468855\n",
      "7                     (0, 3, 5, 7, 10, 11, 12)   0.461711\n",
      "11        (0, 1, 2, 3, 4, 5, 6, 7, 10, 11, 12)   0.453487\n",
      "6                        (0, 3, 5, 10, 11, 12)   0.451407\n",
      "5                            (0, 3, 5, 10, 12)   0.448866\n",
      "4                               (3, 5, 10, 12)   0.442700\n",
      "3                                  (3, 10, 12)   0.441128\n",
      "12     (0, 1, 2, 3, 4, 5, 6, 7, 9, 10, 11, 12)   0.432817\n",
      "2                                     (10, 12)   0.429882\n",
      "13  (0, 1, 2, 3, 4, 5, 6, 7, 8, 9, 10, 11, 12)   0.353276\n",
      "1                                        (12,)   0.297110\n",
      " ................... \n"
     ]
    }
   ],
   "source": [
    "dfm_sort = dfm.sort_values(by='avg_score', ascending=False )\n",
    "print( dfm_sort )\n",
    "print(\" ................... \")"
   ]
  },
  {
   "cell_type": "code",
   "execution_count": 28,
   "metadata": {},
   "outputs": [
    {
     "name": "stdout",
     "output_type": "stream",
     "text": [
      "('0', '2', '3', '5', '7', '10', '11', '12')\n"
     ]
    }
   ],
   "source": [
    "theVars = dfm.iloc[ maxIndex, ]\n",
    "theVars = theVars.feature_names\n",
    "print( theVars )"
   ]
  },
  {
   "cell_type": "code",
   "execution_count": 29,
   "metadata": {},
   "outputs": [
    {
     "name": "stdout",
     "output_type": "stream",
     "text": [
      "CRIM\n",
      "INDUS\n",
      "CHAS\n",
      "RM\n",
      "DIS\n",
      "PTRATIO\n",
      "B\n",
      "LSTAT\n"
     ]
    }
   ],
   "source": [
    "#This will change the variable number location to the actual variable names\n",
    "\n",
    "theVarNames = []\n",
    "for i in theVars :\n",
    "    index = int(i)\n",
    "    try :\n",
    "        theName = varNames[ index ]\n",
    "        theVarNames.append( theName )\n",
    "    except :\n",
    "        pass\n",
    "\n",
    "\n",
    "for i in theVarNames :\n",
    "    print(i)"
   ]
  },
  {
   "cell_type": "code",
   "execution_count": 30,
   "metadata": {},
   "outputs": [
    {
     "name": "stdout",
     "output_type": "stream",
     "text": [
      "INTERCEPT  =  19.048649665273295\n",
      "CRIM  =  -0.056570619040968266\n",
      "INDUS  =  -0.14254749122140326\n",
      "CHAS  =  2.85491761037236\n",
      "RM  =  4.297759362748854\n",
      "DIS  =  -0.8382841748958589\n",
      "PTRATIO  =  -0.8133606934962166\n",
      "B  =  0.009322114851333786\n",
      "LSTAT  =  -0.5582720449697681\n"
     ]
    }
   ],
   "source": [
    "W = X[ theVarNames ]\n",
    "m = LinearRegression()\n",
    "m.fit( W, Y )\n",
    "\n",
    "coef_dict = {}\n",
    "coef_dict[\"INTERCEPT\"] = m.intercept_\n",
    "for coef, feat in zip(m.coef_,theVarNames):\n",
    "    coef_dict[feat] = coef\n",
    "\n",
    "for i in coef_dict :\n",
    "    print( i, \" = \", coef_dict[i]  )"
   ]
  }
 ],
 "metadata": {
  "kernelspec": {
   "display_name": "Python 3",
   "language": "python",
   "name": "python3"
  },
  "language_info": {
   "codemirror_mode": {
    "name": "ipython",
    "version": 3
   },
   "file_extension": ".py",
   "mimetype": "text/x-python",
   "name": "python",
   "nbconvert_exporter": "python",
   "pygments_lexer": "ipython3",
   "version": "3.7.6"
  }
 },
 "nbformat": 4,
 "nbformat_minor": 4
}
