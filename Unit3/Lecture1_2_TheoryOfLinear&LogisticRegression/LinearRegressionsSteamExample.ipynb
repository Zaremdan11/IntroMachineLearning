{
 "cells": [
  {
   "cell_type": "code",
   "execution_count": 1,
   "metadata": {},
   "outputs": [],
   "source": [
    "import numpy as np\n",
    "import pandas as pd\n",
    "\n",
    "from sklearn.linear_model import LinearRegression\n",
    "import sklearn.metrics as metrics\n",
    "\n",
    "\n",
    "FILE = \"Steam_Linear_Data.csv\"\n",
    "\n",
    "df = pd.read_csv( FILE )\n",
    "\n",
    "X = df.copy()\n",
    "X = X.drop( \"Y\", axis=1 )\n",
    "Y = df[\"Y\"]"
   ]
  },
  {
   "cell_type": "code",
   "execution_count": 2,
   "metadata": {},
   "outputs": [
    {
     "data": {
      "text/plain": [
       "LinearRegression(copy_X=True, fit_intercept=True, n_jobs=None, normalize=False)"
      ]
     },
     "execution_count": 2,
     "metadata": {},
     "output_type": "execute_result"
    }
   ],
   "source": [
    "varNames = list( X.columns.values )\n",
    "m = LinearRegression()\n",
    "m.fit(X,Y)"
   ]
  },
  {
   "cell_type": "code",
   "execution_count": 3,
   "metadata": {},
   "outputs": [
    {
     "name": "stdout",
     "output_type": "stream",
     "text": [
      "INTERCEPT  =  9.126885414860034\n",
      "X6  =  0.2028153864969843\n",
      "X8  =  -0.07239294367982885\n"
     ]
    }
   ],
   "source": [
    "#𝒀 ̂=𝜷_𝟎+𝜷_𝟏 𝑿_𝟏 \"+\" 𝜷_𝟐 𝑿_𝟐+𝜷_𝟑 𝑿_𝟑+ … +𝜷_𝒏 𝑿_𝒏\n",
    "#Ex. Y hat = 9.13 + .20*X6 + -.07X8\n",
    "\n",
    "coef_dict = {}\n",
    "coef_dict[\"INTERCEPT\"] = m.intercept_\n",
    "for coef, feat in zip(m.coef_,varNames):\n",
    "    coef_dict[feat] = coef\n",
    "\n",
    "for i in coef_dict :\n",
    "    print( i, \" = \", coef_dict[i]  )"
   ]
  },
  {
   "cell_type": "code",
   "execution_count": 4,
   "metadata": {},
   "outputs": [
    {
     "name": "stdout",
     "output_type": "stream",
     "text": [
      " Predicted Values \n",
      "[10.62772223 11.03312272 11.56193664  8.92648806  8.94108179  8.42720703\n",
      "  5.97181966  8.23910052  8.26782741  9.02059888  9.82416056 11.29385246\n",
      " 11.35176681 10.14981366 10.40364954  9.67213538  9.29592236  8.52131786\n",
      "  6.29034861  8.398365    7.96366191  9.1799785   9.95446786 10.76526883\n",
      " 11.51838573]\n",
      " --------- \n",
      "r2= 0.8491172428993501\n",
      "MSE= 0.3851481540233462\n"
     ]
    }
   ],
   "source": [
    "PRED = m.predict( X )\n",
    "print(\" Predicted Values \")\n",
    "print( PRED )\n",
    "print(\" --------- \")\n",
    "\n",
    "\n",
    "r2 = metrics.r2_score( Y, PRED )\n",
    "print( \"r2=\", r2 )\n",
    "\n",
    "mse = metrics.mean_squared_error(Y,PRED)\n",
    "print( \"MSE=\", mse )\n"
   ]
  }
 ],
 "metadata": {
  "kernelspec": {
   "display_name": "Python 3",
   "language": "python",
   "name": "python3"
  },
  "language_info": {
   "codemirror_mode": {
    "name": "ipython",
    "version": 3
   },
   "file_extension": ".py",
   "mimetype": "text/x-python",
   "name": "python",
   "nbconvert_exporter": "python",
   "pygments_lexer": "ipython3",
   "version": "3.7.6"
  }
 },
 "nbformat": 4,
 "nbformat_minor": 4
}
