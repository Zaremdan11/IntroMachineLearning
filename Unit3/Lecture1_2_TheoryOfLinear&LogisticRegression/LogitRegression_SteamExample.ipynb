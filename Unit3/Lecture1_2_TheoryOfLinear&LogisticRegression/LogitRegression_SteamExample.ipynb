{
 "cells": [
  {
   "cell_type": "code",
   "execution_count": 1,
   "metadata": {},
   "outputs": [],
   "source": [
    "#Changed the Y value to 0 or 1, 1 its greater than 10 and 0 if <= 10\n",
    "\n",
    "import numpy as np\n",
    "import pandas as pd\n",
    "\n",
    "from sklearn.linear_model import LogisticRegression\n",
    "import sklearn.metrics as metrics\n",
    "\n",
    "import warnings\n",
    "warnings.filterwarnings(\"ignore\")\n",
    "\n",
    "FILE = \"Steam_Logit_Data.csv\"\n",
    "\n",
    "df = pd.read_csv( FILE )\n",
    "\n",
    "X = df.copy()\n",
    "X = X.drop( \"Y\", axis=1 )\n",
    "Y = df[\"Y\"]"
   ]
  },
  {
   "cell_type": "code",
   "execution_count": 2,
   "metadata": {},
   "outputs": [
    {
     "data": {
      "text/plain": [
       "LogisticRegression(C=1.0, class_weight=None, dual=False, fit_intercept=True,\n",
       "                   intercept_scaling=1, l1_ratio=None, max_iter=100,\n",
       "                   multi_class='auto', n_jobs=None, penalty='l2',\n",
       "                   random_state=None, solver='lbfgs', tol=0.0001, verbose=0,\n",
       "                   warm_start=False)"
      ]
     },
     "execution_count": 2,
     "metadata": {},
     "output_type": "execute_result"
    }
   ],
   "source": [
    "varNames = list( X.columns.values )\n",
    "m = LogisticRegression()\n",
    "m.fit(X,Y)"
   ]
  },
  {
   "cell_type": "code",
   "execution_count": 3,
   "metadata": {},
   "outputs": [
    {
     "name": "stdout",
     "output_type": "stream",
     "text": [
      "INTERCEPT  =  -20.233166628423696\n",
      "X6  =  1.4671041595845793\n",
      "X8  =  -0.22199831658281602\n"
     ]
    }
   ],
   "source": [
    "coef_dict = {}\n",
    "coef_dict[\"INTERCEPT\"] = m.intercept_[0]\n",
    "for coef, feat in zip(m.coef_[0],varNames):\n",
    "    coef_dict[feat] = coef\n",
    "\n",
    "for i in coef_dict :\n",
    "    print( i, \" = \", coef_dict[i]  )"
   ]
  },
  {
   "cell_type": "code",
   "execution_count": 4,
   "metadata": {},
   "outputs": [
    {
     "name": "stdout",
     "output_type": "stream",
     "text": [
      " Predicted Flag Values \n",
      "[1 1 1 0 0 0 0 0 0 0 0 1 1 0 1 0 0 0 0 0 0 0 0 1 1]\n",
      " --------- \n",
      " Predicted Probabilities of 0 and 1\n",
      "[[2.18850793e-01 7.81149207e-01]\n",
      " [7.47740858e-02 9.25225914e-01]\n",
      " [1.26340466e-03 9.98736595e-01]\n",
      " [9.81008404e-01 1.89915962e-02]\n",
      " [9.54983970e-01 4.50160296e-02]\n",
      " [9.77803087e-01 2.21969128e-02]\n",
      " [9.99999999e-01 1.11803224e-09]\n",
      " [9.71168791e-01 2.88312090e-02]\n",
      " [9.94055108e-01 5.94489213e-03]\n",
      " [9.74814693e-01 2.51853066e-02]\n",
      " [7.67063790e-01 2.32936210e-01]\n",
      " [1.53636301e-02 9.84636370e-01]\n",
      " [1.28958751e-02 9.87104125e-01]\n",
      " [7.38526062e-01 2.61473938e-01]\n",
      " [4.22611132e-02 9.57738887e-01]\n",
      " [8.39969585e-01 1.60030415e-01]\n",
      " [7.54243730e-01 2.45756270e-01]\n",
      " [9.70595363e-01 2.94046369e-02]\n",
      " [9.99999997e-01 2.96940858e-09]\n",
      " [9.53851588e-01 4.61484119e-02]\n",
      " [9.98990371e-01 1.00962914e-03]\n",
      " [9.10689380e-01 8.93106197e-02]\n",
      " [6.88305311e-01 3.11694689e-01]\n",
      " [1.55227866e-01 8.44772134e-01]\n",
      " [3.35489915e-03 9.96645101e-01]]\n",
      " --------- \n",
      " Predicted Probability of 1\n",
      "[7.81149207e-01 9.25225914e-01 9.98736595e-01 1.89915962e-02\n",
      " 4.50160296e-02 2.21969128e-02 1.11803224e-09 2.88312090e-02\n",
      " 5.94489213e-03 2.51853066e-02 2.32936210e-01 9.84636370e-01\n",
      " 9.87104125e-01 2.61473938e-01 9.57738887e-01 1.60030415e-01\n",
      " 2.45756270e-01 2.94046369e-02 2.96940858e-09 4.61484119e-02\n",
      " 1.00962914e-03 8.93106197e-02 3.11694689e-01 8.44772134e-01\n",
      " 9.96645101e-01]\n",
      " --------- \n"
     ]
    }
   ],
   "source": [
    "PRED_FLAG = m.predict( X )\n",
    "print(\" Predicted Flag Values \")\n",
    "print( PRED_FLAG )\n",
    "print(\" --------- \")\n",
    "\n",
    "PRED_PROB = m.predict_proba( X )\n",
    "print(\" Predicted Probabilities of 0 and 1\")\n",
    "print( PRED_PROB )\n",
    "print(\" --------- \")\n",
    "\n",
    "P1 = PRED_PROB[:,1]\n",
    "print(\" Predicted Probability of 1\")\n",
    "print( P1 )\n",
    "print(\" --------- \")"
   ]
  },
  {
   "cell_type": "code",
   "execution_count": 5,
   "metadata": {},
   "outputs": [
    {
     "name": "stdout",
     "output_type": "stream",
     "text": [
      "AUC= 0.9861111111111112\n",
      "ACCURACY= 0.96\n"
     ]
    }
   ],
   "source": [
    "fpr_train, tpr_train, threshold = metrics.roc_curve( Y, P1)\n",
    "auc = metrics.auc(fpr_train, tpr_train)\n",
    "print(\"AUC=\",auc)\n",
    "\n",
    "accuracy = metrics.accuracy_score( Y, PRED_FLAG )\n",
    "print(\"ACCURACY=\",accuracy)"
   ]
  }
 ],
 "metadata": {
  "kernelspec": {
   "display_name": "Python 3",
   "language": "python",
   "name": "python3"
  },
  "language_info": {
   "codemirror_mode": {
    "name": "ipython",
    "version": 3
   },
   "file_extension": ".py",
   "mimetype": "text/x-python",
   "name": "python",
   "nbconvert_exporter": "python",
   "pygments_lexer": "ipython3",
   "version": "3.7.6"
  }
 },
 "nbformat": 4,
 "nbformat_minor": 4
}
